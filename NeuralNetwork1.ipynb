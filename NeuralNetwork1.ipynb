{
 "cells": [
  {
   "cell_type": "markdown",
   "metadata": {
    "deletable": true,
    "editable": true
   },
   "source": [
    "This is just one forward and backward pass of neural network\n",
    "I/P : x (training input)\n",
    "    : y (training output values)\n",
    "    \n",
    "O/P : trained and optimized values of the parameters"
   ]
  },
  {
   "cell_type": "code",
   "execution_count": 1,
   "metadata": {
    "collapsed": false,
    "deletable": true,
    "editable": true
   },
   "outputs": [
    {
     "name": "stdout",
     "output_type": "stream",
     "text": [
      "[[1 0 1 0]\n",
      " [1 0 1 1]\n",
      " [0 1 0 1]]\n",
      "(3, 4)\n"
     ]
    }
   ],
   "source": [
    "# Importing important library\n",
    "import numpy as np\n",
    "import random\n",
    "# Training I/P given by variable : x\n",
    "x=np.array([[1,0,1,0],[1,0,1,1],[0,1,0,1]])\n",
    "print (x)\n",
    "print (x.shape)"
   ]
  },
  {
   "cell_type": "code",
   "execution_count": 15,
   "metadata": {
    "collapsed": false,
    "deletable": true,
    "editable": true
   },
   "outputs": [
    {
     "name": "stdout",
     "output_type": "stream",
     "text": [
      "[[ 0.34  0.21  0.61]\n",
      " [ 0.05  0.99  0.9 ]\n",
      " [ 0.06  0.45  0.38]\n",
      " [ 0.8   0.76  0.91]]\n",
      "(4, 3)\n"
     ]
    }
   ],
   "source": [
    "# Randomly initalised Weights for forward pass\n",
    "def randomWeights(nrows,ncols):\n",
    "    array=[]\n",
    "    for i in range(nrows):\n",
    "        alist=[]\n",
    "        for j in range(ncols):\n",
    "            alist.append(round(random.random(),2))\n",
    "        array.append(alist)\n",
    "    return np.array(array)\n",
    "       \n",
    "wh=randomWeights(4,3)\n",
    "print (wh)\n",
    "print (wh.shape)\n",
    "    "
   ]
  },
  {
   "cell_type": "code",
   "execution_count": 16,
   "metadata": {
    "collapsed": false,
    "deletable": true,
    "editable": true
   },
   "outputs": [
    {
     "name": "stdout",
     "output_type": "stream",
     "text": [
      "[ 0.74  0.14  0.92]\n"
     ]
    }
   ],
   "source": [
    "#Randomly Initalised biases\n",
    "def randomBiases(n):\n",
    "    alist=[]\n",
    "    for i in range(n):\n",
    "        alist.append(round(random.random(),2))\n",
    "    return np.array(alist)\n",
    "\n",
    "bh=randomBiases(3)\n",
    "print (bh)"
   ]
  },
  {
   "cell_type": "markdown",
   "metadata": {
    "deletable": true,
    "editable": true
   },
   "source": [
    "1. calculate variable hidden_layer_input, which is given by the following    formula \n",
    "\n",
    "hidden_layer_input = matrixMultiplcation(x,wh)+bh"
   ]
  },
  {
   "cell_type": "code",
   "execution_count": 17,
   "metadata": {
    "collapsed": false,
    "deletable": true,
    "editable": true
   },
   "outputs": [
    {
     "name": "stdout",
     "output_type": "stream",
     "text": [
      "[[ 1.14  0.8   1.91]\n",
      " [ 1.94  1.56  2.82]\n",
      " [ 1.59  1.89  2.73]]\n"
     ]
    }
   ],
   "source": [
    "#calculating hidden_layer_input\n",
    "hidden_layer_input=np.dot(x,wh)+bh\n",
    "print (hidden_layer_input)"
   ]
  },
  {
   "cell_type": "markdown",
   "metadata": {
    "deletable": true,
    "editable": true
   },
   "source": [
    "2. calculate variable hidden_layer_activation, which is nothing but          sigmoid of all the of all the values in hidden_layer_input"
   ]
  },
  {
   "cell_type": "code",
   "execution_count": 18,
   "metadata": {
    "collapsed": false,
    "deletable": true,
    "editable": true
   },
   "outputs": [
    {
     "name": "stdout",
     "output_type": "stream",
     "text": [
      "[[ 0.76  0.69  0.87]\n",
      " [ 0.87  0.83  0.94]\n",
      " [ 0.83  0.87  0.94]]\n"
     ]
    }
   ],
   "source": [
    "hidden_layer_input=np.dot(x,wh)+bh\n",
    "def sigmoid(array):\n",
    "    activation=np.exp(array)/(1+np.exp(array))\n",
    "    return np.around(activation,2)\n",
    "hidden_layer_activations=sigmoid(hidden_layer_input)\n",
    "print (hidden_layer_activations)"
   ]
  },
  {
   "cell_type": "markdown",
   "metadata": {
    "deletable": true,
    "editable": true
   },
   "source": [
    "3. Randomly intialise wout and bout\n",
    "4. calculate the output of second layer"
   ]
  },
  {
   "cell_type": "code",
   "execution_count": 22,
   "metadata": {
    "collapsed": false,
    "deletable": true,
    "editable": true
   },
   "outputs": [
    {
     "name": "stdout",
     "output_type": "stream",
     "text": [
      "[ 0.56  0.17  0.68]\n",
      "0.8\n",
      "[ 0.87  0.89  0.89]\n"
     ]
    }
   ],
   "source": [
    "#Randomly initialise wout and bout\n",
    "def randomWeights(n):\n",
    "    alist=[]\n",
    "    for i in range(n):\n",
    "        alist.append(round(random.random(),2))\n",
    "    return np.array(alist)\n",
    "wout=randomWeights(3)\n",
    "bout=round(random.random(),2)\n",
    "print (wout)\n",
    "print (bout)\n",
    "#output is the 3rd layer in ANN\n",
    "output=sigmoid(np.dot(hidden_layer_activations,wout)+bout)\n",
    "print (output)\n"
   ]
  },
  {
   "cell_type": "markdown",
   "metadata": {
    "deletable": true,
    "editable": true
   },
   "source": [
    "5. calculate the error (This is the final step of forward propogation)"
   ]
  },
  {
   "cell_type": "code",
   "execution_count": 23,
   "metadata": {
    "collapsed": false,
    "deletable": true,
    "editable": true
   },
   "outputs": [
    {
     "name": "stdout",
     "output_type": "stream",
     "text": [
      "[ 0.13  0.11 -0.89]\n"
     ]
    }
   ],
   "source": [
    "y=np.array([1,1,0])\n",
    "error=np.subtract(y,output)\n",
    "print (error)\n"
   ]
  },
  {
   "cell_type": "markdown",
   "metadata": {
    "deletable": true,
    "editable": true
   },
   "source": [
    "##### Backpropogation starts \n",
    "1. calculate the derivative which for sigmoid function is a(1-a)\n",
    "   - slope_ouput_layer\n",
    "   - slope_hidden_layer"
   ]
  },
  {
   "cell_type": "code",
   "execution_count": 25,
   "metadata": {
    "collapsed": false,
    "deletable": true,
    "editable": true
   },
   "outputs": [
    {
     "name": "stdout",
     "output_type": "stream",
     "text": [
      "[[ 0.18  0.21  0.11]\n",
      " [ 0.11  0.14  0.06]\n",
      " [ 0.14  0.11  0.06]]\n",
      "[ 0.11  0.1   0.1 ]\n"
     ]
    }
   ],
   "source": [
    "#function that calculated the dervative of sigmoid function\n",
    "def derivativeS(arr):\n",
    "    return np.around(arr*(1-arr),2)\n",
    "slope_output_layer=derivativeS(output)\n",
    "slope_hidden_layer=derivativeS(hidden_layer_activations)\n",
    "print (slope_hidden_layer)\n",
    "print (slope_output_layer)"
   ]
  },
  {
   "cell_type": "markdown",
   "metadata": {
    "deletable": true,
    "editable": true
   },
   "source": [
    "2. calculating delta_output \n",
    "   - error*activation of 3rd layer"
   ]
  },
  {
   "cell_type": "code",
   "execution_count": 26,
   "metadata": {
    "collapsed": false,
    "deletable": true,
    "editable": true
   },
   "outputs": [
    {
     "name": "stdout",
     "output_type": "stream",
     "text": [
      "[ 0.01  0.01 -0.09]\n"
     ]
    }
   ],
   "source": [
    "delta_output=np.around(error*slope_output_layer,2)\n",
    "print (delta_output)\n"
   ]
  },
  {
   "cell_type": "markdown",
   "metadata": {
    "deletable": true,
    "editable": true
   },
   "source": [
    "3. Calculate Error at hidden layer"
   ]
  },
  {
   "cell_type": "code",
   "execution_count": 27,
   "metadata": {
    "collapsed": false,
    "deletable": true,
    "editable": true
   },
   "outputs": [
    {
     "name": "stdout",
     "output_type": "stream",
     "text": [
      "[[ 0.0056  0.0017  0.0068]\n",
      " [ 0.0056  0.0017  0.0068]\n",
      " [-0.0504 -0.0153 -0.0612]]\n"
     ]
    }
   ],
   "source": [
    "\n",
    "delta_output=np.reshape(delta_output,(3,1))\n",
    "wout=np.reshape(wout,(3,1))\n",
    "error_at_hidden_layer=np.dot(delta_output,wout.T)\n",
    "print (error_at_hidden_layer)\n"
   ]
  },
  {
   "cell_type": "markdown",
   "metadata": {
    "deletable": true,
    "editable": true
   },
   "source": [
    "4. Compute delta at hidden layer"
   ]
  },
  {
   "cell_type": "code",
   "execution_count": 28,
   "metadata": {
    "collapsed": false,
    "deletable": true,
    "editable": true
   },
   "outputs": [
    {
     "name": "stdout",
     "output_type": "stream",
     "text": [
      "[[ 0.002147  0.002162  0.001126]\n",
      " [ 0.002147  0.002162  0.001126]\n",
      " [-0.019323 -0.019458 -0.010134]]\n"
     ]
    }
   ],
   "source": [
    "delta_hiddenlayer=np.matmul(error_at_hidden_layer,slope_hidden_layer)\n",
    "print (delta_hiddenlayer)\n"
   ]
  },
  {
   "cell_type": "markdown",
   "metadata": {
    "deletable": true,
    "editable": true
   },
   "source": [
    "5. Update weight at both output and hidden layer"
   ]
  },
  {
   "cell_type": "code",
   "execution_count": 29,
   "metadata": {
    "collapsed": false,
    "deletable": true,
    "editable": true
   },
   "outputs": [
    {
     "name": "stdout",
     "output_type": "stream",
     "text": [
      "[[ 0.55]\n",
      " [ 0.16]\n",
      " [ 0.67]]\n",
      "[[ 0.34  0.21  0.61]\n",
      " [ 0.05  0.99  0.9 ]\n",
      " [ 0.06  0.45  0.38]\n",
      " [ 0.8   0.76  0.91]]\n"
     ]
    }
   ],
   "source": [
    "learning_rate=0.1\n",
    "wout+=np.dot(hidden_layer_activations,delta_output)*learning_rate\n",
    "wh+=np.dot(x.T,delta_hiddenlayer)*learning_rate\n",
    "print (np.around(wout,2))\n",
    "print (np.around(wh,2))"
   ]
  },
  {
   "cell_type": "markdown",
   "metadata": {
    "deletable": true,
    "editable": true
   },
   "source": [
    "6. Update biases at both output and hidden layer"
   ]
  },
  {
   "cell_type": "code",
   "execution_count": 32,
   "metadata": {
    "collapsed": false,
    "deletable": true,
    "editable": true
   },
   "outputs": [
    {
     "name": "stdout",
     "output_type": "stream",
     "text": [
      "[ 0.74  0.14  0.92]\n"
     ]
    }
   ],
   "source": [
    "bh+=np.sum(delta_hiddenlayer,axis=0)*learning_rate\n",
    "print (np.round(bh,2))"
   ]
  },
  {
   "cell_type": "code",
   "execution_count": 33,
   "metadata": {
    "collapsed": false,
    "deletable": true,
    "editable": true
   },
   "outputs": [
    {
     "name": "stdout",
     "output_type": "stream",
     "text": [
      "[ 0.79]\n"
     ]
    }
   ],
   "source": [
    "\n",
    "bout+=np.sum(delta_output,axis=0)*learning_rate\n",
    "print(np.around(bout,2))"
   ]
  },
  {
   "cell_type": "code",
   "execution_count": null,
   "metadata": {
    "collapsed": true,
    "deletable": true,
    "editable": true
   },
   "outputs": [],
   "source": []
  },
  {
   "cell_type": "code",
   "execution_count": null,
   "metadata": {
    "collapsed": true
   },
   "outputs": [],
   "source": []
  }
 ],
 "metadata": {
  "kernelspec": {
   "display_name": "Python 3",
   "language": "python",
   "name": "python3"
  },
  "language_info": {
   "codemirror_mode": {
    "name": "ipython",
    "version": 3
   },
   "file_extension": ".py",
   "mimetype": "text/x-python",
   "name": "python",
   "nbconvert_exporter": "python",
   "pygments_lexer": "ipython3",
   "version": "3.5.2"
  }
 },
 "nbformat": 4,
 "nbformat_minor": 2
}
